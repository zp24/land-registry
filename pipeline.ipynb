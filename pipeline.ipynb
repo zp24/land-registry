{
 "cells": [
  {
   "cell_type": "markdown",
   "metadata": {},
   "source": [
    "Python"
   ]
  },
  {
   "cell_type": "code",
   "execution_count": null,
   "metadata": {},
   "outputs": [],
   "source": [
    "import csv\n",
    "import uuid #universally unique id\n",
    "from uuid import UUID\n",
    "\n",
    "c1 = []\n",
    "c2 = []\n",
    "c3 = []\n",
    "c4 = []\n",
    "c5 = []\n",
    "c6 = []\n",
    "c7 = []\n",
    "c8 = []\n",
    "c9 = []\n",
    "c10 = []\n",
    "c11 = []\n",
    "c12 = []\n",
    "c13 = []\n",
    "c14 = []\n",
    "c15 = []\n",
    "\n",
    "with open('pp-monthly-update-new-version.csv', mode='r') as infile:\n",
    "    reader = csv.reader(infile, delimiter=',')\n",
    "   \n",
    "    for row in reader:\n",
    "        c1.append(row[0])\n",
    "        c2.append(row[1])\n",
    "        c3.append(row[2])\n",
    "        c4.append(row[3])\n",
    "        c5.append(row[4])\n",
    "        c6.append(row[5])\n",
    "        c7.append(row[6])\n",
    "        c8.append(row[7])\n",
    "        c9.append(row[8])\n",
    "        c10.append(row[9])\n",
    "        c11.append(row[10])\n",
    "        c12.append(row[11])\n",
    "        c13.append(row[12])\n",
    "        c14.append(row[13])\n",
    "        c15.append(row[14])\n"
   ]
  },
  {
   "cell_type": "code",
   "execution_count": null,
   "metadata": {},
   "outputs": [],
   "source": [
    "import pandas as pd\n",
    "\n",
    "df = pd.DataFrame({\"Transaction ID\" :c1, \"Price\":c2, \"Date\":c3, \"Postcode\":c4, \"N/A1\":c5, \"N/A2\":c6, \"N/A3\":c7, \"Door Number/House Name\":c8, \"Property Type\":c9,\n",
    " \"Address\":c10, \"Village/Town\":c11, \"Town/City\":c12, \"Location\":c13, \"N/A4\":c14, \"N/A5\":c15}) #add each list to DataFrame under each named column\n",
    "\n",
    "#df['Property ID'] = [uuid.uuid4() for _ in range(len(df.index))] #create a uuid for each row in DataFrame and add to new column\n",
    "df['Property ID'] = df[\"Door Number/House Name\"].replace(' ', '_', regex=True)+\"-\"+df[\"Postcode\"].replace(' ', '_', regex=True) #create unique property ID using door number/house name and postcode\n",
    "\n",
    "df[\"Date\"] = pd.to_datetime(df[\"Date\"]).dt.strftime('%d/%m/%Y') #update format to dd/mm/yy (Y is full year format; yy is short year format)\n",
    "\n",
    "df = df[[\"Property ID\", \"Transaction ID\", \"Price\", \"Date\", \"Postcode\", \"N/A1\", \"N/A2\", \"N/A3\", \"Door Number/House Name\", \"Property Type\",\n",
    " \"Address\", \"Village/Town\", \"Town/City\", \"Location\", \"N/A4\", \"N/A5\"]] #rearrange column order in DataFrame\n",
    "\n",
    "#df.head() #display first 5 rows in DataFrame"
   ]
  },
  {
   "cell_type": "code",
   "execution_count": null,
   "metadata": {},
   "outputs": [],
   "source": [
    "import os \n",
    "import json\n",
    "from json import JSONEncoder\n",
    "property_data_file = f\"property_data\"\n",
    "create_file = os.path.join(property_data_file+\".json\") #add file type here\n",
    "\n",
    "try:\n",
    "    with open(create_file, \"w\") as fp: #specify path here - create data.json file\n",
    "        #Dealing with no UUID serialization support in json\n",
    "        JSONEncoder_olddefault = JSONEncoder.default\n",
    "        def JSONEncoder_newdefault(self, o):\n",
    "            if isinstance(o, UUID): return str(o)\n",
    "            return JSONEncoder_olddefault(self, o)\n",
    "        JSONEncoder.default = JSONEncoder_newdefault\n",
    "                    \n",
    "        json.dump(df.to_dict(\"dict\"), fp,  indent=4) #save DataFrame as dictionary in json file\n",
    "except RuntimeError:\n",
    "    print(\"File not saved\")"
   ]
  },
  {
   "cell_type": "markdown",
   "metadata": {},
   "source": [
    "Python Apache Beam"
   ]
  },
  {
   "cell_type": "code",
   "execution_count": null,
   "metadata": {},
   "outputs": [],
   "source": [
    "import csv\n",
    "import apache_beam as beam\n",
    "from apache_beam.transforms import PTransform \n",
    "import json\n",
    "\n",
    "p1 = beam.Pipeline() #initialize pipeline\n",
    "\n",
    "'''\n",
    "Flatten a PCollection of lists of strings into a PCollection of strings - use a generator to iterate over the input list and yield each of the elements\n",
    "Each yielded result in the generator is an element in the resulting PCollection\n",
    "'''\n",
    "def generate_elements(elements):\n",
    "  for element in elements:\n",
    "    yield element\n",
    "\n",
    "def parse_file(element):\n",
    "  for line in csv.reader([element], quotechar='\"', delimiter=',', quoting=csv.QUOTE_ALL, skipinitialspace=True):\n",
    "    return line\n",
    "\n",
    "parsed_csv = (\n",
    "                p1 \n",
    "                | 'Read input file' >> beam.io.ReadFromText('pp-monthly-update-new-version.csv')\n",
    "                | 'Parse file' >> beam.Map(parse_file)\n",
    "                |'Flatten lists' >> beam.FlatMap(generate_elements)\n",
    "                #|\"split\" >> beam.ParDo(lambda row: row.split(\" \"))\n",
    "                | \"pair\" >> beam.Map(lambda w: (w, 1))\n",
    "                | \"group\" >> beam.CombinePerKey(sum)\n",
    "                #| beam.Map(print)\n",
    "                #|beam.io.WriteToText('test.csv')\n",
    "                #| 'format json' >> beam.Map(json.dumps)\n",
    "                #| 'write to text' >> beam.io.WriteToText('output.json')\n",
    "             )\n",
    "# lets collect our result with a map transformation into output array\n",
    "output = []\n",
    "def collect(row):\n",
    "    output.append(row)\n",
    "    return True\n",
    "\n",
    "parsed_csv | \"print\" >> beam.Map(collect)\n",
    "result = p1.run() #run pipeline \n",
    "\n",
    "# lets wait until result a available\n",
    "result.wait_until_finish()\n",
    "\n",
    "# print the output\n",
    "print(output)"
   ]
  }
 ],
 "metadata": {
  "kernelspec": {
   "display_name": "Python 3.9.7 ('selenium')",
   "language": "python",
   "name": "python3"
  },
  "language_info": {
   "codemirror_mode": {
    "name": "ipython",
    "version": 3
   },
   "file_extension": ".py",
   "mimetype": "text/x-python",
   "name": "python",
   "nbconvert_exporter": "python",
   "pygments_lexer": "ipython3",
   "version": "3.9.7"
  },
  "orig_nbformat": 4,
  "vscode": {
   "interpreter": {
    "hash": "381f79caed1e6579afd0c6dacdc9a775c1ed878940e587981b0781468419dc7f"
   }
  }
 },
 "nbformat": 4,
 "nbformat_minor": 2
}
